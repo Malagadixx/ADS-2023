{
  "nbformat": 4,
  "nbformat_minor": 0,
  "metadata": {
    "colab": {
      "provenance": [],
      "authorship_tag": "ABX9TyNI2JISqTG8ruovy5jZo6wx",
      "include_colab_link": true
    },
    "kernelspec": {
      "name": "python3",
      "display_name": "Python 3"
    },
    "language_info": {
      "name": "python"
    }
  },
  "cells": [
    {
      "cell_type": "markdown",
      "metadata": {
        "id": "view-in-github",
        "colab_type": "text"
      },
      "source": [
        "<a href=\"https://colab.research.google.com/github/Malagadixx/ADS-2023/blob/main/Tela_login.ipynb\" target=\"_parent\"><img src=\"https://colab.research.google.com/assets/colab-badge.svg\" alt=\"Open In Colab\"/></a>"
      ]
    },
    {
      "cell_type": "code",
      "execution_count": null,
      "metadata": {
        "id": "nMPWSDCCtEVc"
      },
      "outputs": [],
      "source": [
        "usuarios = []  \n",
        "\n",
        "def cadastrar():\n",
        "    print(\"Cadastro de Usuário\")\n",
        "    nome = input(\"Digite o nome: \")\n",
        "    email = input(\"Digite o e-mail: \")\n",
        "    senha = input(\"Digite a senha: \")\n",
        "    usuarios.append({'nome': nome, 'email': email, 'senha': senha})\n",
        "    print(\"Usuário cadastrado com sucesso!\")\n",
        "\n",
        "def fazer_login():\n",
        "    print(\"Login\")\n",
        "    email = input(\"Digite o e-mail: \")\n",
        "    senha = input(\"Digite a senha: \")\n",
        "\n",
        "    for usuario in usuarios:\n",
        "        if usuario['email'] == email and usuario['senha'] == senha:\n",
        "            print(\"Login bem-sucedido!\")\n",
        "            return\n",
        "\n",
        "    print(\"Credenciais inválidas. Por favor, tente novamente.\")\n",
        "\n",
        "while True:\n",
        "    print(\"1. Cadastrar novo usuário\")\n",
        "    print(\"2. Fazer login\")\n",
        "    print(\"3. Sair\")\n",
        "\n",
        "    opcao = input(\"Escolha uma opção: \")\n",
        "\n",
        "    if opcao == '1':\n",
        "        cadastrar()\n",
        "    elif opcao == '2':\n",
        "        fazer_login()\n",
        "    elif opcao == '3':\n",
        "        break\n",
        "    else:\n",
        "        print(\"Opção inválida. Por favor, escolha novamente.\")"
      ]
    }
  ]
}